{
  "nbformat": 4,
  "nbformat_minor": 0,
  "metadata": {
    "colab": {
      "name": "train_40.ipynb",
      "provenance": [],
      "collapsed_sections": [],
      "machine_shape": "hm"
    },
    "kernelspec": {
      "name": "python3",
      "display_name": "Python 3"
    }
  },
  "cells": [
    {
      "cell_type": "code",
      "metadata": {
        "id": "Jls1jnknnuhg",
        "colab_type": "code",
        "colab": {}
      },
      "source": [
        "from google.colab import drive\n",
        "drive.mount('/gdrive')"
      ],
      "execution_count": 0,
      "outputs": []
    },
    {
      "cell_type": "markdown",
      "metadata": {
        "id": "Oc4HztqWOQvW",
        "colab_type": "text"
      },
      "source": [
        "Importing numpy files"
      ]
    },
    {
      "cell_type": "code",
      "metadata": {
        "id": "t3g5UN-ynyeF",
        "colab_type": "code",
        "colab": {}
      },
      "source": [
        "import numpy as np\n",
        "train=np.load('/gdrive/My Drive/Phoneme_classification/train.npy',encoding='bytes',allow_pickle=True)\n",
        "train_labels=np.load('/gdrive/My Drive/Phoneme_classification/train_labels.npy',encoding='bytes',allow_pickle=True)\n"
      ],
      "execution_count": 0,
      "outputs": []
    },
    {
      "cell_type": "markdown",
      "metadata": {
        "id": "dc18CrM2Obk3",
        "colab_type": "text"
      },
      "source": [
        "Concatinating to add the mfccs vectors of all the uttrences "
      ]
    },
    {
      "cell_type": "code",
      "metadata": {
        "id": "PlmDym65oBPq",
        "colab_type": "code",
        "colab": {}
      },
      "source": [
        "train_con=np.concatenate(train)\n",
        "train_labels_con=np.concatenate(train_labels)"
      ],
      "execution_count": 0,
      "outputs": []
    },
    {
      "cell_type": "code",
      "metadata": {
        "id": "qMf2I3-OselB",
        "colab_type": "code",
        "colab": {}
      },
      "source": [
        "train_labels_con=train_labels_con.reshape(15449191,1)"
      ],
      "execution_count": 0,
      "outputs": []
    },
    {
      "cell_type": "code",
      "metadata": {
        "id": "OJieE451sHSb",
        "colab_type": "code",
        "colab": {}
      },
      "source": [
        "data=np.concatenate((train_con,train_labels_con),axis=1)"
      ],
      "execution_count": 0,
      "outputs": []
    },
    {
      "cell_type": "code",
      "metadata": {
        "id": "3vvUIM7Cs970",
        "colab_type": "code",
        "colab": {}
      },
      "source": [
        "np.random.shuffle(data)"
      ],
      "execution_count": 0,
      "outputs": []
    },
    {
      "cell_type": "code",
      "metadata": {
        "id": "WafpjJAesHP3",
        "colab_type": "code",
        "outputId": "38c33112-12a8-40c6-b0eb-8279a57af34f",
        "colab": {
          "base_uri": "https://localhost:8080/",
          "height": 34
        }
      },
      "source": [
        "data.shape"
      ],
      "execution_count": 0,
      "outputs": [
        {
          "output_type": "execute_result",
          "data": {
            "text/plain": [
              "(15449191, 41)"
            ]
          },
          "metadata": {
            "tags": []
          },
          "execution_count": 40
        }
      ]
    },
    {
      "cell_type": "markdown",
      "metadata": {
        "id": "noHycAi1Or5u",
        "colab_type": "text"
      },
      "source": [
        "Contexting is a method used while working with phoneme data in which we use the idea that some phonemes get mixed out while speaking so we contexting our vectors. PS:ask Jasmeet sir, i would be able to explain this to you better."
      ]
    },
    {
      "cell_type": "code",
      "metadata": {
        "id": "BoUNmm4ksHK3",
        "colab_type": "code",
        "colab": {}
      },
      "source": [
        "first_40=data[0:7500000,0:40]\n",
        "last_40=data[2:7500002,0:40]\n",
        "middle_part=data[1:7500001,0:40]\n",
        "train_label=data[1:7500001,-1]\n"
      ],
      "execution_count": 0,
      "outputs": []
    },
    {
      "cell_type": "code",
      "metadata": {
        "id": "eytcVLBzu5PK",
        "colab_type": "code",
        "colab": {}
      },
      "source": [
        "train_label=train_label.reshape(7500000,1)"
      ],
      "execution_count": 0,
      "outputs": []
    },
    {
      "cell_type": "code",
      "metadata": {
        "id": "aUOrFhDZIAdr",
        "colab_type": "code",
        "outputId": "ff019fe8-68eb-4d8b-d710-97294641e35f",
        "colab": {
          "base_uri": "https://localhost:8080/",
          "height": 68
        }
      },
      "source": [
        "print(first_40.shape)\n",
        "print(last_40.shape)\n",
        "print(middle_part.shape)"
      ],
      "execution_count": 0,
      "outputs": [
        {
          "output_type": "stream",
          "text": [
            "(7500000, 40)\n",
            "(7500000, 40)\n",
            "(7500000, 40)\n"
          ],
          "name": "stdout"
        }
      ]
    },
    {
      "cell_type": "code",
      "metadata": {
        "id": "1UVhw94Fw-RF",
        "colab_type": "code",
        "outputId": "1bafd864-5994-458c-d8d4-200ad6c97637",
        "colab": {
          "base_uri": "https://localhost:8080/",
          "height": 34
        }
      },
      "source": [
        "train_label.shape"
      ],
      "execution_count": 0,
      "outputs": [
        {
          "output_type": "execute_result",
          "data": {
            "text/plain": [
              "(7500000, 1)"
            ]
          },
          "metadata": {
            "tags": []
          },
          "execution_count": 46
        }
      ]
    },
    {
      "cell_type": "code",
      "metadata": {
        "id": "cv28BvJ0uhVl",
        "colab_type": "code",
        "colab": {}
      },
      "source": [
        "Data=np.concatenate((first_40,middle_part,last_40,train_label),axis=1)"
      ],
      "execution_count": 0,
      "outputs": []
    },
    {
      "cell_type": "code",
      "metadata": {
        "id": "VgfWQVN0xM_D",
        "colab_type": "code",
        "outputId": "f43f44a8-1b0c-4b59-e88d-b5cdbcd99d15",
        "colab": {
          "base_uri": "https://localhost:8080/",
          "height": 63
        }
      },
      "source": [
        "import tensorflow as tf"
      ],
      "execution_count": 0,
      "outputs": [
        {
          "output_type": "display_data",
          "data": {
            "text/html": [
              "<p style=\"color: red;\">\n",
              "The default version of TensorFlow in Colab will soon switch to TensorFlow 2.x.<br>\n",
              "We recommend you <a href=\"https://www.tensorflow.org/guide/migrate\" target=\"_blank\">upgrade</a> now \n",
              "or ensure your notebook will continue to use TensorFlow 1.x via the <code>%tensorflow_version 1.x</code> magic:\n",
              "<a href=\"https://colab.research.google.com/notebooks/tensorflow_version.ipynb\" target=\"_blank\">more info</a>.</p>\n"
            ],
            "text/plain": [
              "<IPython.core.display.HTML object>"
            ]
          },
          "metadata": {
            "tags": []
          }
        }
      ]
    },
    {
      "cell_type": "markdown",
      "metadata": {
        "id": "0pGxOeUoPWQl",
        "colab_type": "text"
      },
      "source": [
        "Training a Multi Layer Perceptron model."
      ]
    },
    {
      "cell_type": "code",
      "metadata": {
        "id": "tV-_brSVxM8C",
        "colab_type": "code",
        "outputId": "94016e25-c6a3-40a7-9da7-480f2575de58",
        "colab": {
          "base_uri": "https://localhost:8080/",
          "height": 561
        }
      },
      "source": [
        "model=tf.keras.Sequential()\n",
        "tf.keras.initializers.glorot_normal(seed=None)\n",
        "model.add(tf.keras.layers.Dense(450,activation=tf.nn.relu))\n",
        "model.add(tf.keras.layers.Dropout(0.5))\n",
        "model.add(tf.keras.layers.Dense(500,activation=tf.nn.relu))\n",
        "model.add(tf.keras.layers.Dense(550,activation=tf.nn.relu))\n",
        "model.add(tf.keras.layers.Dropout(0.5))\n",
        "model.add(tf.keras.layers.Dense(138,activation=tf.nn.softmax))\n",
        "model.compile(Optimizer='adam',loss='sparse_categorical_crossentropy',learning_rate=.001, beta_1=0.9, beta_2=0.999, amsgrad=False,metrics=['accuracy'])\n",
        "model.fit(Data[:,0:120],Data[:,-1],epochs=15,batch_size=2048)"
      ],
      "execution_count": 0,
      "outputs": [
        {
          "output_type": "stream",
          "text": [
            "Train on 7500000 samples\n",
            "Epoch 1/15\n",
            "7500000/7500000 [==============================] - 383s 51us/sample - loss: 2.3377 - acc: 0.3359\n",
            "Epoch 2/15\n",
            "7500000/7500000 [==============================] - 388s 52us/sample - loss: 1.8697 - acc: 0.4161\n",
            "Epoch 3/15\n",
            "7500000/7500000 [==============================] - 388s 52us/sample - loss: 1.6239 - acc: 0.4622\n",
            "Epoch 4/15\n",
            "7500000/7500000 [==============================] - 382s 51us/sample - loss: 1.5206 - acc: 0.4827\n",
            "Epoch 5/15\n",
            "7500000/7500000 [==============================] - 387s 52us/sample - loss: 1.4675 - acc: 0.4924\n",
            "Epoch 6/15\n",
            "7500000/7500000 [==============================] - 388s 52us/sample - loss: 1.4334 - acc: 0.4986\n",
            "Epoch 7/15\n",
            "7500000/7500000 [==============================] - 385s 51us/sample - loss: 1.4097 - acc: 0.5027\n",
            "Epoch 8/15\n",
            "7500000/7500000 [==============================] - 383s 51us/sample - loss: 1.3906 - acc: 0.5059\n",
            "Epoch 9/15\n",
            "7500000/7500000 [==============================] - 383s 51us/sample - loss: 1.3759 - acc: 0.5085\n",
            "Epoch 10/15\n",
            "7500000/7500000 [==============================] - 379s 50us/sample - loss: 1.3652 - acc: 0.5101\n",
            "Epoch 11/15\n",
            "7500000/7500000 [==============================] - 379s 51us/sample - loss: 1.3555 - acc: 0.5121\n",
            "Epoch 12/15\n",
            "7500000/7500000 [==============================] - 378s 50us/sample - loss: 1.3461 - acc: 0.5138\n",
            "Epoch 13/15\n",
            "7500000/7500000 [==============================] - 379s 50us/sample - loss: 1.3416 - acc: 0.5153\n",
            "Epoch 14/15\n",
            "7500000/7500000 [==============================] - 377s 50us/sample - loss: 1.3368 - acc: 0.5165\n",
            "Epoch 15/15\n",
            "7500000/7500000 [==============================] - 377s 50us/sample - loss: 1.3399 - acc: 0.5167\n"
          ],
          "name": "stdout"
        },
        {
          "output_type": "execute_result",
          "data": {
            "text/plain": [
              "<tensorflow.python.keras.callbacks.History at 0x7f6468c51710>"
            ]
          },
          "metadata": {
            "tags": []
          },
          "execution_count": 19
        }
      ]
    },
    {
      "cell_type": "code",
      "metadata": {
        "id": "JcUYTzLNm_R4",
        "colab_type": "code",
        "outputId": "b821e5d0-aa91-4af1-8680-6b67e3591574",
        "colab": {
          "base_uri": "https://localhost:8080/",
          "height": 85
        }
      },
      "source": [
        "!pip install h5py pyyaml"
      ],
      "execution_count": 0,
      "outputs": [
        {
          "output_type": "stream",
          "text": [
            "Requirement already satisfied: h5py in /usr/local/lib/python3.6/dist-packages (2.8.0)\n",
            "Requirement already satisfied: pyyaml in /usr/local/lib/python3.6/dist-packages (3.13)\n",
            "Requirement already satisfied: six in /usr/local/lib/python3.6/dist-packages (from h5py) (1.12.0)\n",
            "Requirement already satisfied: numpy>=1.7 in /usr/local/lib/python3.6/dist-packages (from h5py) (1.17.4)\n"
          ],
          "name": "stdout"
        }
      ]
    },
    {
      "cell_type": "code",
      "metadata": {
        "id": "rms_h5NKxM57",
        "colab_type": "code",
        "colab": {}
      },
      "source": [
        "model.save('/content/drive/My Drive/Phoneme_classification/trained_model.h5')"
      ],
      "execution_count": 0,
      "outputs": []
    },
    {
      "cell_type": "code",
      "metadata": {
        "id": "ZpfXU-sDoMIc",
        "colab_type": "code",
        "colab": {}
      },
      "source": [
        "model.save_weights('/content/drive/My Drive/Phoneme_classification/weights')"
      ],
      "execution_count": 0,
      "outputs": []
    },
    {
      "cell_type": "code",
      "metadata": {
        "id": "cHxBe68vxM3q",
        "colab_type": "code",
        "colab": {}
      },
      "source": [
        "dev_set=np.load('/gdrive/My Drive/Phoneme_classification/dev_40.npy',encoding='bytes',allow_pickle=True)"
      ],
      "execution_count": 0,
      "outputs": []
    },
    {
      "cell_type": "code",
      "metadata": {
        "id": "XPdEXljeQRYg",
        "colab_type": "code",
        "colab": {}
      },
      "source": [
        ""
      ],
      "execution_count": 0,
      "outputs": []
    },
    {
      "cell_type": "code",
      "metadata": {
        "id": "eWGukqsFQRXB",
        "colab_type": "code",
        "colab": {}
      },
      "source": [
        ""
      ],
      "execution_count": 0,
      "outputs": []
    },
    {
      "cell_type": "code",
      "metadata": {
        "id": "D_BHj1lXQRTl",
        "colab_type": "code",
        "colab": {}
      },
      "source": [
        ""
      ],
      "execution_count": 0,
      "outputs": []
    },
    {
      "cell_type": "code",
      "metadata": {
        "id": "k0Xg6xYgQRQs",
        "colab_type": "code",
        "colab": {}
      },
      "source": [
        ""
      ],
      "execution_count": 0,
      "outputs": []
    },
    {
      "cell_type": "code",
      "metadata": {
        "id": "hq6yhd0OQRM-",
        "colab_type": "code",
        "colab": {}
      },
      "source": [
        ""
      ],
      "execution_count": 0,
      "outputs": []
    },
    {
      "cell_type": "code",
      "metadata": {
        "id": "da4Y-TETQRKG",
        "colab_type": "code",
        "colab": {}
      },
      "source": [
        ""
      ],
      "execution_count": 0,
      "outputs": []
    },
    {
      "cell_type": "code",
      "metadata": {
        "id": "UneDac9mQRG8",
        "colab_type": "code",
        "colab": {}
      },
      "source": [
        ""
      ],
      "execution_count": 0,
      "outputs": []
    },
    {
      "cell_type": "code",
      "metadata": {
        "id": "E9X5I2sYobS0",
        "colab_type": "code",
        "outputId": "665fc82f-76d2-44d1-e126-601e7828c754",
        "colab": {
          "base_uri": "https://localhost:8080/",
          "height": 224
        }
      },
      "source": [
        "x_train_1.head(5)"
      ],
      "execution_count": 0,
      "outputs": [
        {
          "output_type": "execute_result",
          "data": {
            "text/html": [
              "<div>\n",
              "<style scoped>\n",
              "    .dataframe tbody tr th:only-of-type {\n",
              "        vertical-align: middle;\n",
              "    }\n",
              "\n",
              "    .dataframe tbody tr th {\n",
              "        vertical-align: top;\n",
              "    }\n",
              "\n",
              "    .dataframe thead th {\n",
              "        text-align: right;\n",
              "    }\n",
              "</style>\n",
              "<table border=\"1\" class=\"dataframe\">\n",
              "  <thead>\n",
              "    <tr style=\"text-align: right;\">\n",
              "      <th></th>\n",
              "      <th>F1</th>\n",
              "      <th>F2</th>\n",
              "      <th>F3</th>\n",
              "      <th>F4</th>\n",
              "      <th>F5</th>\n",
              "      <th>F6</th>\n",
              "      <th>F7</th>\n",
              "      <th>F8</th>\n",
              "      <th>F9</th>\n",
              "      <th>F10</th>\n",
              "      <th>F11</th>\n",
              "      <th>F12</th>\n",
              "      <th>F13</th>\n",
              "      <th>F14</th>\n",
              "      <th>F15</th>\n",
              "      <th>F16</th>\n",
              "      <th>F17</th>\n",
              "      <th>F18</th>\n",
              "      <th>F19</th>\n",
              "      <th>F20</th>\n",
              "      <th>F21</th>\n",
              "      <th>F22</th>\n",
              "      <th>F23</th>\n",
              "      <th>F24</th>\n",
              "      <th>F25</th>\n",
              "      <th>F26</th>\n",
              "      <th>F27</th>\n",
              "      <th>F28</th>\n",
              "      <th>F29</th>\n",
              "      <th>F30</th>\n",
              "      <th>F31</th>\n",
              "      <th>F32</th>\n",
              "      <th>F33</th>\n",
              "      <th>F34</th>\n",
              "      <th>F35</th>\n",
              "      <th>F36</th>\n",
              "      <th>F37</th>\n",
              "      <th>F38</th>\n",
              "      <th>F39</th>\n",
              "      <th>F40</th>\n",
              "    </tr>\n",
              "  </thead>\n",
              "  <tbody>\n",
              "    <tr>\n",
              "      <th>0</th>\n",
              "      <td>-8.595672</td>\n",
              "      <td>-25.197674</td>\n",
              "      <td>-37.551193</td>\n",
              "      <td>-44.940121</td>\n",
              "      <td>-56.984299</td>\n",
              "      <td>-67.992905</td>\n",
              "      <td>-65.782478</td>\n",
              "      <td>-90.400276</td>\n",
              "      <td>-88.760101</td>\n",
              "      <td>-76.166840</td>\n",
              "      <td>-73.390335</td>\n",
              "      <td>-81.687180</td>\n",
              "      <td>-76.521652</td>\n",
              "      <td>-6.620188</td>\n",
              "      <td>-5.919683</td>\n",
              "      <td>-4.971373</td>\n",
              "      <td>-4.655136</td>\n",
              "      <td>-5.363139</td>\n",
              "      <td>-5.713684</td>\n",
              "      <td>-4.828257</td>\n",
              "      <td>-5.379041</td>\n",
              "      <td>-5.867833</td>\n",
              "      <td>-5.031155</td>\n",
              "      <td>-4.691166</td>\n",
              "      <td>-4.050505</td>\n",
              "      <td>-4.839659</td>\n",
              "      <td>-4.820417</td>\n",
              "      <td>-4.044322</td>\n",
              "      <td>-4.121346</td>\n",
              "      <td>-4.552412</td>\n",
              "      <td>-4.498943</td>\n",
              "      <td>-4.595987</td>\n",
              "      <td>-4.430915</td>\n",
              "      <td>-4.700477</td>\n",
              "      <td>-3.852736</td>\n",
              "      <td>-3.353288</td>\n",
              "      <td>-3.738916</td>\n",
              "      <td>-3.655260</td>\n",
              "      <td>-3.936150</td>\n",
              "      <td>-4.342616</td>\n",
              "    </tr>\n",
              "    <tr>\n",
              "      <th>1</th>\n",
              "      <td>-9.175342</td>\n",
              "      <td>-24.212482</td>\n",
              "      <td>-35.481956</td>\n",
              "      <td>-51.454803</td>\n",
              "      <td>-64.893692</td>\n",
              "      <td>-65.412910</td>\n",
              "      <td>-79.050613</td>\n",
              "      <td>-94.056755</td>\n",
              "      <td>-96.843155</td>\n",
              "      <td>-83.758957</td>\n",
              "      <td>-87.404686</td>\n",
              "      <td>-79.926712</td>\n",
              "      <td>-86.086105</td>\n",
              "      <td>-6.700307</td>\n",
              "      <td>-6.271729</td>\n",
              "      <td>-6.040863</td>\n",
              "      <td>-5.406919</td>\n",
              "      <td>-5.083390</td>\n",
              "      <td>-6.608041</td>\n",
              "      <td>-7.279544</td>\n",
              "      <td>-6.548639</td>\n",
              "      <td>-6.090821</td>\n",
              "      <td>-4.990780</td>\n",
              "      <td>-4.876358</td>\n",
              "      <td>-3.877232</td>\n",
              "      <td>-4.124226</td>\n",
              "      <td>-4.110281</td>\n",
              "      <td>-4.523401</td>\n",
              "      <td>-3.956823</td>\n",
              "      <td>-3.894696</td>\n",
              "      <td>-4.192808</td>\n",
              "      <td>-4.334671</td>\n",
              "      <td>-4.026760</td>\n",
              "      <td>-4.906885</td>\n",
              "      <td>-3.495173</td>\n",
              "      <td>-3.354180</td>\n",
              "      <td>-3.137019</td>\n",
              "      <td>-3.855874</td>\n",
              "      <td>-3.178764</td>\n",
              "      <td>-3.727995</td>\n",
              "    </tr>\n",
              "    <tr>\n",
              "      <th>2</th>\n",
              "      <td>-8.346513</td>\n",
              "      <td>-23.094103</td>\n",
              "      <td>-35.397152</td>\n",
              "      <td>-46.789066</td>\n",
              "      <td>-55.521210</td>\n",
              "      <td>-64.965034</td>\n",
              "      <td>-61.792542</td>\n",
              "      <td>-81.374237</td>\n",
              "      <td>-97.630211</td>\n",
              "      <td>-79.520920</td>\n",
              "      <td>-77.311638</td>\n",
              "      <td>-84.384506</td>\n",
              "      <td>-72.705528</td>\n",
              "      <td>-6.940372</td>\n",
              "      <td>-8.033133</td>\n",
              "      <td>-7.011425</td>\n",
              "      <td>-6.663736</td>\n",
              "      <td>-5.796579</td>\n",
              "      <td>-6.742538</td>\n",
              "      <td>-6.753904</td>\n",
              "      <td>-7.227016</td>\n",
              "      <td>-6.854255</td>\n",
              "      <td>-5.555284</td>\n",
              "      <td>-4.882186</td>\n",
              "      <td>-4.853939</td>\n",
              "      <td>-3.951571</td>\n",
              "      <td>-3.886505</td>\n",
              "      <td>-5.207541</td>\n",
              "      <td>-3.675046</td>\n",
              "      <td>-3.714169</td>\n",
              "      <td>-4.819234</td>\n",
              "      <td>-4.637926</td>\n",
              "      <td>-4.318246</td>\n",
              "      <td>-4.368862</td>\n",
              "      <td>-3.494599</td>\n",
              "      <td>-3.438024</td>\n",
              "      <td>-4.162025</td>\n",
              "      <td>-4.158163</td>\n",
              "      <td>-4.132808</td>\n",
              "      <td>-5.056127</td>\n",
              "    </tr>\n",
              "    <tr>\n",
              "      <th>3</th>\n",
              "      <td>-8.894590</td>\n",
              "      <td>-27.067322</td>\n",
              "      <td>-36.458565</td>\n",
              "      <td>-45.169369</td>\n",
              "      <td>-51.520912</td>\n",
              "      <td>-62.082809</td>\n",
              "      <td>-70.195541</td>\n",
              "      <td>-83.953369</td>\n",
              "      <td>-90.847763</td>\n",
              "      <td>-94.377235</td>\n",
              "      <td>-81.865646</td>\n",
              "      <td>-83.716553</td>\n",
              "      <td>-72.753357</td>\n",
              "      <td>-6.070098</td>\n",
              "      <td>-5.970509</td>\n",
              "      <td>-5.778099</td>\n",
              "      <td>-5.426819</td>\n",
              "      <td>-5.629325</td>\n",
              "      <td>-5.870736</td>\n",
              "      <td>-7.070892</td>\n",
              "      <td>-7.175351</td>\n",
              "      <td>-6.254181</td>\n",
              "      <td>-5.420140</td>\n",
              "      <td>-4.600147</td>\n",
              "      <td>-4.495587</td>\n",
              "      <td>-3.778859</td>\n",
              "      <td>-4.132180</td>\n",
              "      <td>-4.064687</td>\n",
              "      <td>-3.627531</td>\n",
              "      <td>-3.828911</td>\n",
              "      <td>-4.081470</td>\n",
              "      <td>-4.096229</td>\n",
              "      <td>-3.883134</td>\n",
              "      <td>-4.080383</td>\n",
              "      <td>-3.397233</td>\n",
              "      <td>-3.748729</td>\n",
              "      <td>-3.325805</td>\n",
              "      <td>-3.023888</td>\n",
              "      <td>-2.884309</td>\n",
              "      <td>-2.945253</td>\n",
              "    </tr>\n",
              "    <tr>\n",
              "      <th>4</th>\n",
              "      <td>-8.793239</td>\n",
              "      <td>-26.106071</td>\n",
              "      <td>-36.223339</td>\n",
              "      <td>-46.845398</td>\n",
              "      <td>-53.371002</td>\n",
              "      <td>-59.118744</td>\n",
              "      <td>-67.388229</td>\n",
              "      <td>-80.711853</td>\n",
              "      <td>-88.165794</td>\n",
              "      <td>-103.828140</td>\n",
              "      <td>-96.150360</td>\n",
              "      <td>-102.223831</td>\n",
              "      <td>-86.169540</td>\n",
              "      <td>-5.704709</td>\n",
              "      <td>-6.528429</td>\n",
              "      <td>-6.242578</td>\n",
              "      <td>-5.764445</td>\n",
              "      <td>-5.541948</td>\n",
              "      <td>-6.097227</td>\n",
              "      <td>-7.711731</td>\n",
              "      <td>-7.338320</td>\n",
              "      <td>-6.268511</td>\n",
              "      <td>-4.899438</td>\n",
              "      <td>-4.910325</td>\n",
              "      <td>-5.105474</td>\n",
              "      <td>-4.626087</td>\n",
              "      <td>-4.440727</td>\n",
              "      <td>-4.752365</td>\n",
              "      <td>-4.083458</td>\n",
              "      <td>-4.505378</td>\n",
              "      <td>-4.974636</td>\n",
              "      <td>-5.523366</td>\n",
              "      <td>-4.258684</td>\n",
              "      <td>-3.739353</td>\n",
              "      <td>-3.811446</td>\n",
              "      <td>-2.507243</td>\n",
              "      <td>-2.618226</td>\n",
              "      <td>-2.815021</td>\n",
              "      <td>-2.673651</td>\n",
              "      <td>-2.662914</td>\n",
              "    </tr>\n",
              "  </tbody>\n",
              "</table>\n",
              "</div>"
            ],
            "text/plain": [
              "         F1         F2         F3  ...       F38       F39       F40\n",
              "0 -8.595672 -25.197674 -37.551193  ... -3.655260 -3.936150 -4.342616\n",
              "1 -9.175342 -24.212482 -35.481956  ... -3.855874 -3.178764 -3.727995\n",
              "2 -8.346513 -23.094103 -35.397152  ... -4.158163 -4.132808 -5.056127\n",
              "3 -8.894590 -27.067322 -36.458565  ... -3.023888 -2.884309 -2.945253\n",
              "4 -8.793239 -26.106071 -36.223339  ... -2.815021 -2.673651 -2.662914\n",
              "\n",
              "[5 rows x 40 columns]"
            ]
          },
          "metadata": {
            "tags": []
          },
          "execution_count": 9
        }
      ]
    },
    {
      "cell_type": "code",
      "metadata": {
        "id": "iDPHs-pS-WBK",
        "colab_type": "code",
        "colab": {}
      },
      "source": [
        "train_label=x_new.iloc[1:7500001,-1]\n"
      ],
      "execution_count": 0,
      "outputs": []
    },
    {
      "cell_type": "code",
      "metadata": {
        "id": "rj9bv5UclBbd",
        "colab_type": "code",
        "colab": {}
      },
      "source": [
        "train_label=np.array(train_label)"
      ],
      "execution_count": 0,
      "outputs": []
    },
    {
      "cell_type": "code",
      "metadata": {
        "id": "mf5NJqBG_FyK",
        "colab_type": "code",
        "colab": {}
      },
      "source": [
        "train_label=train_label.reshape(7500000,1)"
      ],
      "execution_count": 0,
      "outputs": []
    },
    {
      "cell_type": "code",
      "metadata": {
        "id": "IK_byUw6pNUT",
        "colab_type": "code",
        "colab": {}
      },
      "source": [
        "X_train_final=np.concatenate((first_40,middle_part,last_40,train_label),axis=1)"
      ],
      "execution_count": 0,
      "outputs": []
    },
    {
      "cell_type": "code",
      "metadata": {
        "id": "7SABE1ovpbds",
        "colab_type": "code",
        "colab": {}
      },
      "source": [
        "X_Train=pd.DataFrame(X_train_final,columns=col)"
      ],
      "execution_count": 0,
      "outputs": []
    },
    {
      "cell_type": "code",
      "metadata": {
        "id": "aCkHnr_mpNSG",
        "colab_type": "code",
        "colab": {}
      },
      "source": [
        "X_Train.head(3)"
      ],
      "execution_count": 0,
      "outputs": []
    },
    {
      "cell_type": "code",
      "metadata": {
        "id": "ll0oQpsXAW9L",
        "colab_type": "code",
        "colab": {}
      },
      "source": [
        "X_Train_values=X_Train.values"
      ],
      "execution_count": 0,
      "outputs": []
    },
    {
      "cell_type": "code",
      "metadata": {
        "id": "nRhfCUwjAWwV",
        "colab_type": "code",
        "colab": {}
      },
      "source": [
        "np.random.shuffle(X_Train_values)"
      ],
      "execution_count": 0,
      "outputs": []
    },
    {
      "cell_type": "code",
      "metadata": {
        "id": "tKsIuu0yBBmV",
        "colab_type": "code",
        "colab": {}
      },
      "source": [
        "X_Train=pd.DataFrame(X_Train_values,columns=col)"
      ],
      "execution_count": 0,
      "outputs": []
    },
    {
      "cell_type": "code",
      "metadata": {
        "id": "NOBlOO0LBgo0",
        "colab_type": "code",
        "outputId": "f988bf9c-5467-490f-e709-af9f0871d281",
        "colab": {
          "base_uri": "https://localhost:8080/",
          "height": 34
        }
      },
      "source": [
        "X_Train.shape"
      ],
      "execution_count": 0,
      "outputs": [
        {
          "output_type": "execute_result",
          "data": {
            "text/plain": [
              "(15449189, 121)"
            ]
          },
          "metadata": {
            "tags": []
          },
          "execution_count": 22
        }
      ]
    },
    {
      "cell_type": "code",
      "metadata": {
        "id": "c3sK7fZRBngh",
        "colab_type": "code",
        "colab": {}
      },
      "source": [
        "X_Train_40_30K=X_Train[0:3000000]"
      ],
      "execution_count": 0,
      "outputs": []
    },
    {
      "cell_type": "code",
      "metadata": {
        "id": "RQHHjCTrCMkd",
        "colab_type": "code",
        "outputId": "6eaf3055-6397-4728-aaad-5fd3357e812a",
        "colab": {
          "base_uri": "https://localhost:8080/",
          "height": 34
        }
      },
      "source": [
        "X_Train_40_30K.shape"
      ],
      "execution_count": 0,
      "outputs": [
        {
          "output_type": "execute_result",
          "data": {
            "text/plain": [
              "(3000000, 121)"
            ]
          },
          "metadata": {
            "tags": []
          },
          "execution_count": 24
        }
      ]
    },
    {
      "cell_type": "code",
      "metadata": {
        "id": "qKyWG32r_eeH",
        "colab_type": "code",
        "colab": {}
      },
      "source": [
        "from sklearn.utils import shuffle\n",
        "X_Train=shuffle(X_Train)"
      ],
      "execution_count": 0,
      "outputs": []
    },
    {
      "cell_type": "code",
      "metadata": {
        "id": "vyx8_iYXu1y6",
        "colab_type": "code",
        "outputId": "c7dadb7d-c456-49e9-e3c1-ad03bd46a921",
        "colab": {
          "base_uri": "https://localhost:8080/",
          "height": 34
        }
      },
      "source": [
        "train_labels_con.shape"
      ],
      "execution_count": 0,
      "outputs": [
        {
          "output_type": "execute_result",
          "data": {
            "text/plain": [
              "(15449189, 1)"
            ]
          },
          "metadata": {
            "tags": []
          },
          "execution_count": 15
        }
      ]
    },
    {
      "cell_type": "code",
      "metadata": {
        "id": "7Sl3PGG5qIS2",
        "colab_type": "code",
        "colab": {}
      },
      "source": [
        "train_labels_con=train_labels_con[1:15449190]"
      ],
      "execution_count": 0,
      "outputs": []
    },
    {
      "cell_type": "code",
      "metadata": {
        "id": "LHxBb1rTs0IE",
        "colab_type": "code",
        "colab": {}
      },
      "source": [
        "Label=pd.DataFrame(train_labels_con,columns=['Labels'])"
      ],
      "execution_count": 0,
      "outputs": []
    },
    {
      "cell_type": "code",
      "metadata": {
        "id": "k5baNKUfsGG0",
        "colab_type": "code",
        "colab": {}
      },
      "source": [
        "a=[]\n",
        "for i in range (1,121):\n",
        "  a.append('F'+str(i))"
      ],
      "execution_count": 0,
      "outputs": []
    }
  ]
}
