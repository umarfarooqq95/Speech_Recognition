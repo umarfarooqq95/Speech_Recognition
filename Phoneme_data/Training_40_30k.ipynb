{
  "nbformat": 4,
  "nbformat_minor": 0,
  "metadata": {
    "colab": {
      "name": "Training_40_30k.ipynb",
      "provenance": [],
      "collapsed_sections": []
    },
    "kernelspec": {
      "name": "python3",
      "display_name": "Python 3"
    }
  },
  "cells": [
    {
      "cell_type": "code",
      "metadata": {
        "id": "qmpU8WmLbBF5",
        "colab_type": "code",
        "outputId": "b8e20591-b176-4968-cb47-fcc5995b7b0c",
        "colab": {
          "base_uri": "https://localhost:8080/",
          "height": 122
        }
      },
      "source": [
        "from google.colab import drive\n",
        "drive.mount('/gdrive')"
      ],
      "execution_count": 0,
      "outputs": [
        {
          "output_type": "stream",
          "text": [
            "Go to this URL in a browser: https://accounts.google.com/o/oauth2/auth?client_id=947318989803-6bn6qk8qdgf4n4g3pfee6491hc0brc4i.apps.googleusercontent.com&redirect_uri=urn%3aietf%3awg%3aoauth%3a2.0%3aoob&response_type=code&scope=email%20https%3a%2f%2fwww.googleapis.com%2fauth%2fdocs.test%20https%3a%2f%2fwww.googleapis.com%2fauth%2fdrive%20https%3a%2f%2fwww.googleapis.com%2fauth%2fdrive.photos.readonly%20https%3a%2f%2fwww.googleapis.com%2fauth%2fpeopleapi.readonly\n",
            "\n",
            "Enter your authorization code:\n",
            "··········\n",
            "Mounted at /gdrive\n"
          ],
          "name": "stdout"
        }
      ]
    },
    {
      "cell_type": "code",
      "metadata": {
        "id": "imIysrhTc1aF",
        "colab_type": "code",
        "colab": {}
      },
      "source": [
        "import numpy as np\n",
        "val=np.load('/gdrive/My Drive/Phoneme_classification/t1.npy',encoding='bytes',allow_pickle=True)\n"
      ],
      "execution_count": 0,
      "outputs": []
    },
    {
      "cell_type": "code",
      "metadata": {
        "id": "fgG4Dttbc1Xj",
        "colab_type": "code",
        "colab": {}
      },
      "source": [
        "X=val[:,0:120]"
      ],
      "execution_count": 0,
      "outputs": []
    },
    {
      "cell_type": "code",
      "metadata": {
        "id": "C6bKfoWHer95",
        "colab_type": "code",
        "colab": {}
      },
      "source": [
        "Y=val[:,-1]"
      ],
      "execution_count": 0,
      "outputs": []
    },
    {
      "cell_type": "code",
      "metadata": {
        "id": "NwDkAG1Eew6i",
        "colab_type": "code",
        "outputId": "917e2871-3292-4293-9fda-d1d69b1aada0",
        "colab": {
          "base_uri": "https://localhost:8080/",
          "height": 63
        }
      },
      "source": [
        "import tensorflow as tf"
      ],
      "execution_count": 0,
      "outputs": [
        {
          "output_type": "display_data",
          "data": {
            "text/html": [
              "<p style=\"color: red;\">\n",
              "The default version of TensorFlow in Colab will soon switch to TensorFlow 2.x.<br>\n",
              "We recommend you <a href=\"https://www.tensorflow.org/guide/migrate\" target=\"_blank\">upgrade</a> now \n",
              "or ensure your notebook will continue to use TensorFlow 1.x via the <code>%tensorflow_version 1.x</code> magic:\n",
              "<a href=\"https://colab.research.google.com/notebooks/tensorflow_version.ipynb\" target=\"_blank\">more info</a>.</p>\n"
            ],
            "text/plain": [
              "<IPython.core.display.HTML object>"
            ]
          },
          "metadata": {
            "tags": []
          }
        }
      ]
    },
    {
      "cell_type": "code",
      "metadata": {
        "id": "fM7kLFYCgOFi",
        "colab_type": "code",
        "outputId": "be405877-f6f1-4f89-8229-c81cd6567a4f",
        "colab": {
          "base_uri": "https://localhost:8080/",
          "height": 901
        }
      },
      "source": [
        "model=tf.keras.Sequential()\n",
        "tf.keras.initializers.glorot_normal(seed=None)\n",
        "model.add(tf.keras.layers.Dense(450,activation=tf.nn.relu))\n",
        "model.add(tf.keras.layers.Dense(500,activation=tf.nn.relu))\n",
        "model.add(tf.keras.layers.Dense(550,activation=tf.nn.relu))\n",
        "model.add(tf.keras.layers.Dense(138,activation=tf.nn.softmax))\n",
        "model.compile(Optimizer='adam',loss='sparse_categorical_crossentropy',learning_rate=.01, beta_1=0.9, beta_2=0.999, amsgrad=False,metrics=['accuracy'])\n",
        "model.fit(dev[:,:120],dev[:,-1],epochs=25,batch_size=2048)"
      ],
      "execution_count": 0,
      "outputs": [
        {
          "output_type": "stream",
          "text": [
            "Train on 669292 samples\n",
            "Epoch 1/25\n",
            "669292/669292 [==============================] - 37s 56us/sample - loss: 3.1242 - acc: 0.2631\n",
            "Epoch 2/25\n",
            "669292/669292 [==============================] - 37s 56us/sample - loss: 2.4971 - acc: 0.3537\n",
            "Epoch 3/25\n",
            "669292/669292 [==============================] - 37s 55us/sample - loss: 2.3373 - acc: 0.3884\n",
            "Epoch 4/25\n",
            "669292/669292 [==============================] - 37s 55us/sample - loss: 2.2348 - acc: 0.4100\n",
            "Epoch 5/25\n",
            "669292/669292 [==============================] - 37s 55us/sample - loss: 2.1548 - acc: 0.4273\n",
            "Epoch 6/25\n",
            "669292/669292 [==============================] - 36s 54us/sample - loss: 2.0907 - acc: 0.4408\n",
            "Epoch 7/25\n",
            "669292/669292 [==============================] - 36s 54us/sample - loss: 2.0376 - acc: 0.4516\n",
            "Epoch 8/25\n",
            "669292/669292 [==============================] - 36s 54us/sample - loss: 1.9896 - acc: 0.4617\n",
            "Epoch 9/25\n",
            "669292/669292 [==============================] - 36s 54us/sample - loss: 1.9481 - acc: 0.4707\n",
            "Epoch 10/25\n",
            "669292/669292 [==============================] - 36s 54us/sample - loss: 1.9112 - acc: 0.4786\n",
            "Epoch 11/25\n",
            "669292/669292 [==============================] - 36s 54us/sample - loss: 1.8793 - acc: 0.4845\n",
            "Epoch 12/25\n",
            "669292/669292 [==============================] - 36s 54us/sample - loss: 1.8484 - acc: 0.4919\n",
            "Epoch 13/25\n",
            "669292/669292 [==============================] - 36s 54us/sample - loss: 1.8221 - acc: 0.4976\n",
            "Epoch 14/25\n",
            "669292/669292 [==============================] - 36s 54us/sample - loss: 1.7992 - acc: 0.5015\n",
            "Epoch 15/25\n",
            "669292/669292 [==============================] - 36s 54us/sample - loss: 1.7771 - acc: 0.5070\n",
            "Epoch 16/25\n",
            "669292/669292 [==============================] - 36s 54us/sample - loss: 1.7579 - acc: 0.5108\n",
            "Epoch 17/25\n",
            "669292/669292 [==============================] - 37s 56us/sample - loss: 1.7428 - acc: 0.5148\n",
            "Epoch 18/25\n",
            "669292/669292 [==============================] - 37s 56us/sample - loss: 1.7254 - acc: 0.5187\n",
            "Epoch 19/25\n",
            "669292/669292 [==============================] - 37s 55us/sample - loss: 1.7141 - acc: 0.5207\n",
            "Epoch 20/25\n",
            "669292/669292 [==============================] - 36s 55us/sample - loss: 1.7012 - acc: 0.5243\n",
            "Epoch 21/25\n",
            "669292/669292 [==============================] - 36s 54us/sample - loss: 1.6911 - acc: 0.5269\n",
            "Epoch 22/25\n",
            "669292/669292 [==============================] - 36s 54us/sample - loss: 1.6795 - acc: 0.5289\n",
            "Epoch 23/25\n",
            "669292/669292 [==============================] - 36s 54us/sample - loss: 1.6731 - acc: 0.5319\n",
            "Epoch 24/25\n",
            "669292/669292 [==============================] - 36s 54us/sample - loss: 1.6661 - acc: 0.5325\n",
            "Epoch 25/25\n",
            "669292/669292 [==============================] - 37s 55us/sample - loss: 1.6576 - acc: 0.5346\n"
          ],
          "name": "stdout"
        },
        {
          "output_type": "execute_result",
          "data": {
            "text/plain": [
              "<tensorflow.python.keras.callbacks.History at 0x7f60eca9d550>"
            ]
          },
          "metadata": {
            "tags": []
          },
          "execution_count": 32
        }
      ]
    },
    {
      "cell_type": "code",
      "metadata": {
        "id": "capPbGtleILf",
        "colab_type": "code",
        "colab": {}
      },
      "source": [
        ""
      ],
      "execution_count": 0,
      "outputs": []
    },
    {
      "cell_type": "code",
      "metadata": {
        "id": "AUBXVfHKc1Wk",
        "colab_type": "code",
        "colab": {}
      },
      "source": [
        "\n",
        "dev=np.load('/gdrive/My Drive/Phoneme_classification/dev_40.npy',encoding='bytes',allow_pickle=True)\n"
      ],
      "execution_count": 0,
      "outputs": []
    },
    {
      "cell_type": "code",
      "metadata": {
        "id": "H9JxBj7Y1_Jd",
        "colab_type": "code",
        "outputId": "a46d9c4b-e6d4-4cd6-8ff3-07e563632bca",
        "colab": {
          "base_uri": "https://localhost:8080/",
          "height": 544
        }
      },
      "source": [
        "dev[0]"
      ],
      "execution_count": 0,
      "outputs": [
        {
          "output_type": "execute_result",
          "data": {
            "text/plain": [
              "array([-2.77605915e+00, -1.06537542e+01, -9.39956951e+00, -1.01375580e-02,\n",
              "       -8.18525314e+00, -2.07609901e+01, -1.52976494e+01, -2.93809967e+01,\n",
              "       -3.73934135e+01, -2.62839699e+01, -4.26705170e+01, -2.20472641e+01,\n",
              "       -1.71820831e+01, -1.58334255e+00, -2.82403421e+00, -4.57401371e+00,\n",
              "       -2.99919939e+00, -2.17327547e+00, -2.73924732e+00, -1.06188917e+00,\n",
              "       -1.53447104e+00, -6.87636375e-01, -2.67269611e+00, -1.67127037e+00,\n",
              "       -1.48908615e+00, -8.12202930e-01, -5.70705891e-01, -8.22215557e-01,\n",
              "       -9.71503735e-01, -3.02924156e-01, -4.80173111e-01, -7.18064308e-01,\n",
              "       -1.05712700e+00, -1.57896519e-01, -8.74900818e-02, -2.37556458e-01,\n",
              "        1.35851860e-01,  2.36355305e-01, -5.80593109e-01, -8.17158699e-01,\n",
              "       -2.24263430e+00, -9.26576519e+00, -9.31578732e+00, -6.25599480e+00,\n",
              "       -1.22580070e+01, -1.66304932e+01, -2.20023537e+01, -2.81302757e+01,\n",
              "       -3.51071014e+01, -2.60790253e+01, -3.49515800e+01, -2.75807953e+01,\n",
              "       -1.03760376e+01, -1.96391535e+00, -3.44521546e+00, -4.00662708e+00,\n",
              "       -1.64570475e+00, -2.35307693e+00, -3.19820023e+00, -1.13815832e+00,\n",
              "       -1.72311354e+00, -1.19395781e+00, -1.96180201e+00, -2.11761332e+00,\n",
              "       -1.67822361e+00, -6.17523193e-01, -1.03753185e+00, -8.27209949e-01,\n",
              "       -7.02038765e-01, -1.02809381e+00, -9.00684357e-01, -1.00717592e+00,\n",
              "       -5.09635448e-01, -6.18069649e-01, -7.99749851e-01,  1.00267887e-01,\n",
              "       -1.53829575e-01, -2.61115074e-01, -4.62085724e-01, -9.44544792e-01,\n",
              "       -2.74351120e+00, -6.71056461e+00, -1.17953844e+01, -1.10838299e+01,\n",
              "       -2.86216431e+01, -2.94360580e+01, -1.94964943e+01, -3.82450790e+01,\n",
              "       -2.60255013e+01, -2.56594925e+01, -2.62033806e+01, -2.40908966e+01,\n",
              "       -3.31183205e+01, -2.88801813e+00, -2.76935220e+00, -2.91432333e+00,\n",
              "       -2.45994234e+00, -3.18080330e+00, -3.33124852e+00, -1.67436123e+00,\n",
              "       -1.53824329e+00, -9.06744957e-01, -1.85881901e+00, -1.83103228e+00,\n",
              "       -1.39146185e+00, -8.48951817e-01, -7.71090508e-01, -1.46589613e+00,\n",
              "       -1.78566456e-01, -9.81619358e-01, -7.07307816e-01, -1.09262466e+00,\n",
              "       -1.34949446e+00, -3.98756981e-01, -3.48330498e-01,  2.80864239e-01,\n",
              "       -1.55816555e-01, -6.31871700e-01, -5.65508366e-01, -1.35855293e+00,\n",
              "        1.10000000e+02])"
            ]
          },
          "metadata": {
            "tags": []
          },
          "execution_count": 31
        }
      ]
    },
    {
      "cell_type": "code",
      "metadata": {
        "id": "OywEgXvuqOpW",
        "colab_type": "code",
        "colab": {}
      },
      "source": [
        "from sklearn.preprocessing import normalize"
      ],
      "execution_count": 0,
      "outputs": []
    },
    {
      "cell_type": "code",
      "metadata": {
        "id": "1sSJBa4sxO0e",
        "colab_type": "code",
        "colab": {}
      },
      "source": [
        "X=normalize(dev[:,0:120])"
      ],
      "execution_count": 0,
      "outputs": []
    },
    {
      "cell_type": "code",
      "metadata": {
        "id": "FvNinEiXc1Sn",
        "colab_type": "code",
        "outputId": "2292aeba-64ec-477d-e629-a43b72d70244",
        "colab": {
          "base_uri": "https://localhost:8080/",
          "height": 901
        }
      },
      "source": [
        "model1=tf.keras.Sequential()\n",
        "#tf.keras.initializers.glorot_normal(seed=None)\n",
        "model1.add(tf.keras.layers.Dense(500,activation=tf.nn.relu))\n",
        "model1.add(tf.keras.layers.Dense(500,activation=tf.nn.relu))\n",
        "model1.add(tf.keras.layers.Dense(500,activation=tf.nn.relu))\n",
        "model1.add(tf.keras.layers.Dense(138,activation=tf.nn.softmax))\n",
        "model1.compile(Optimizer='adam',loss='sparse_categorical_crossentropy',learning_rate=.01, beta_1=0.9, beta_2=0.999, amsgrad=False,metrics=['accuracy'])\n",
        "model1.fit(dev[:,:120],dev[:,-1],epochs=25,batch_size=2048)"
      ],
      "execution_count": 0,
      "outputs": [
        {
          "output_type": "stream",
          "text": [
            "Train on 669292 samples\n",
            "Epoch 1/25\n",
            "669292/669292 [==============================] - 37s 55us/sample - loss: 3.1065 - acc: 0.2643\n",
            "Epoch 2/25\n",
            "669292/669292 [==============================] - 37s 55us/sample - loss: 2.5029 - acc: 0.3522\n",
            "Epoch 3/25\n",
            "669292/669292 [==============================] - 37s 55us/sample - loss: 2.3492 - acc: 0.3860\n",
            "Epoch 4/25\n",
            "669292/669292 [==============================] - 37s 55us/sample - loss: 2.2476 - acc: 0.4081\n",
            "Epoch 5/25\n",
            "669292/669292 [==============================] - 36s 54us/sample - loss: 2.1697 - acc: 0.4239\n",
            "Epoch 6/25\n",
            "669292/669292 [==============================] - 36s 54us/sample - loss: 2.1092 - acc: 0.4373\n",
            "Epoch 7/25\n",
            "669292/669292 [==============================] - 36s 54us/sample - loss: 2.0556 - acc: 0.4481\n",
            "Epoch 8/25\n",
            "669292/669292 [==============================] - 36s 54us/sample - loss: 2.0102 - acc: 0.4586\n",
            "Epoch 9/25\n",
            "669292/669292 [==============================] - 36s 54us/sample - loss: 1.9715 - acc: 0.4666\n",
            "Epoch 10/25\n",
            "669292/669292 [==============================] - 36s 54us/sample - loss: 1.9359 - acc: 0.4736\n",
            "Epoch 11/25\n",
            "669292/669292 [==============================] - 36s 54us/sample - loss: 1.9043 - acc: 0.4807\n",
            "Epoch 12/25\n",
            "669292/669292 [==============================] - 36s 54us/sample - loss: 1.8769 - acc: 0.4863\n",
            "Epoch 13/25\n",
            "669292/669292 [==============================] - 36s 54us/sample - loss: 1.8525 - acc: 0.4913\n",
            "Epoch 14/25\n",
            "669292/669292 [==============================] - 36s 54us/sample - loss: 1.8296 - acc: 0.4960\n",
            "Epoch 15/25\n",
            "669292/669292 [==============================] - 36s 54us/sample - loss: 1.8108 - acc: 0.4999\n",
            "Epoch 16/25\n",
            "669292/669292 [==============================] - 37s 55us/sample - loss: 1.7922 - acc: 0.5045\n",
            "Epoch 17/25\n",
            "669292/669292 [==============================] - 36s 54us/sample - loss: 1.7777 - acc: 0.5071\n",
            "Epoch 18/25\n",
            "669292/669292 [==============================] - 36s 54us/sample - loss: 1.7633 - acc: 0.5106\n",
            "Epoch 19/25\n",
            "669292/669292 [==============================] - 36s 54us/sample - loss: 1.7497 - acc: 0.5139\n",
            "Epoch 20/25\n",
            "669292/669292 [==============================] - 36s 54us/sample - loss: 1.7405 - acc: 0.5162\n",
            "Epoch 21/25\n",
            "669292/669292 [==============================] - 36s 54us/sample - loss: 1.7277 - acc: 0.5189\n",
            "Epoch 22/25\n",
            "669292/669292 [==============================] - 36s 54us/sample - loss: 1.7207 - acc: 0.5208\n",
            "Epoch 23/25\n",
            "669292/669292 [==============================] - 36s 54us/sample - loss: 1.7113 - acc: 0.5232\n",
            "Epoch 24/25\n",
            "669292/669292 [==============================] - 36s 54us/sample - loss: 1.7035 - acc: 0.5245\n",
            "Epoch 25/25\n",
            "669292/669292 [==============================] - 36s 54us/sample - loss: 1.6982 - acc: 0.5260\n"
          ],
          "name": "stdout"
        },
        {
          "output_type": "execute_result",
          "data": {
            "text/plain": [
              "<tensorflow.python.keras.callbacks.History at 0x7f60ecbf8f98>"
            ]
          },
          "metadata": {
            "tags": []
          },
          "execution_count": 30
        }
      ]
    }
  ]
}
